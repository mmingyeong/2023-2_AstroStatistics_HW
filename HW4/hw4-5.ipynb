{
 "cells": [
  {
   "cell_type": "code",
   "execution_count": 1,
   "metadata": {},
   "outputs": [],
   "source": [
    "#!/usr/bin/env python\n",
    "# -*- coding: utf-8 -*-\n",
    "#\n",
    "# @Author: Mingyeong Yang (ggong@kasi.re.kr)\n",
    "# @Date: 2023-10-06\n",
    "# @Filename: hw3.ipynb\n",
    "\n",
    "import matplotlib.pyplot as plt\n",
    "import numpy as np\n",
    "import glob\n",
    "import os\n",
    "import sys\n",
    "import math"
   ]
  },
  {
   "cell_type": "code",
   "execution_count": 2,
   "metadata": {},
   "outputs": [],
   "source": [
    "# prob1\n",
    "# Derive the critical chi^2 values for which, \n",
    "# that one can assign 68.3%, 90%, 95%, 95.4%, 99% and 99.73% confidence limits \n",
    "# for degrees of freedom of 1, 2, 3, 4, 5 and 6 of the chi^2 distribution. \n",
    "# Make a table for this."
   ]
  },
  {
   "cell_type": "code",
   "execution_count": 3,
   "metadata": {},
   "outputs": [],
   "source": [
    "import scipy.stats as stats\n",
    "\n",
    "# Degrees of freedom\n",
    "df = [2]  # Replace with your desired degrees of freedom\n",
    "#df = 1\n",
    "\n",
    "# Confidence levels (in this example, we use a list)\n",
    "confidence_levels = [0.68, 0.95, 0.99]  # Replace with your desired confidence levels\n",
    "\n",
    "# Calculate and print critical chi-squared values\n",
    "# chi2_value = Sum((random_variables - Mean)^2/Sigma^2) From 1 to k \n",
    "\n",
    "# newfile.py\n",
    "f = open(\"table_chivalue.txt\", 'w')\n",
    "\n",
    "for confidence in confidence_levels:\n",
    "    for df_value in df:\n",
    "        chi2_value = stats.chi2.ppf(confidence, df_value) # ppf(q, df, loc=0, scale=1) Percent point function (inverse of cdf — percentiles).\n",
    "        f.write(f\"Degree of Freedom = {df_value}, Confidence Level = {confidence * 100}%: Chi-squared Value = {chi2_value:.2f}\")\n",
    "        f.write(\"\\n\")\n",
    "\n",
    "f.close()"
   ]
  },
  {
   "cell_type": "code",
   "execution_count": 4,
   "metadata": {},
   "outputs": [
    {
     "data": {
      "text/plain": [
       "'\\nf = open(\"table_chivalue.txt\", \\'w\\')\\n\\nfor confidence in confidence_levels:\\n    for df_value in df:\\n        chi2_value = stats.chi2.ppf(confidence, df_value) # ppf(q, df, loc=0, scale=1) Percent point function (inverse of cdf — percentiles).\\n        f.write(f\"Degree of Freedom = {df_value}, Confidence Level = {confidence * 100}%: Chi-squared Value = {chi2_value:.2f}\")\\n        f.write(\"\\n\")\\n\\nf.close()'"
      ]
     },
     "execution_count": 4,
     "metadata": {},
     "output_type": "execute_result"
    }
   ],
   "source": [
    "import scipy.stats as stats\n",
    "\n",
    "# Degrees of freedom\n",
    "df = [2]  # Replace with your desired degrees of freedom\n",
    "#df = 1\n",
    "\n",
    "# Confidence levels (in this example, we use a list)\n",
    "confidence_levels = [0.683, 0.90, 0.95, 0.954, 0.99, 0.9973]  # Replace with your desired confidence levels\n",
    "\n",
    "# Calculate and print critical chi-squared values\n",
    "# chi2_value = Sum((random_variables - Mean)^2/Sigma^2) From 1 to k \n",
    "\n",
    "# newfile.py\n",
    "\"\"\"\n",
    "f = open(\"table_chivalue.txt\", 'w')\n",
    "\n",
    "for confidence in confidence_levels:\n",
    "    for df_value in df:\n",
    "        chi2_value = stats.chi2.ppf(confidence, df_value) # ppf(q, df, loc=0, scale=1) Percent point function (inverse of cdf — percentiles).\n",
    "        f.write(f\"Degree of Freedom = {df_value}, Confidence Level = {confidence * 100}%: Chi-squared Value = {chi2_value:.2f}\")\n",
    "        f.write(\"\\n\")\n",
    "\n",
    "f.close()\"\"\""
   ]
  },
  {
   "cell_type": "code",
   "execution_count": 5,
   "metadata": {},
   "outputs": [],
   "source": [
    "import scipy.special as sp\n",
    "\n",
    "def pdf_chi(k, x):\n",
    "    \n",
    "    if x > 0:\n",
    "        func = (x^((k/2)-1)*math.exp(-x/2))/(2^(k/2)*sp.gamma(k/2))\n",
    "    else:\n",
    "        func = 0\n",
    "\n",
    "    return func"
   ]
  },
  {
   "cell_type": "code",
   "execution_count": null,
   "metadata": {},
   "outputs": [],
   "source": []
  }
 ],
 "metadata": {
  "kernelspec": {
   "display_name": "base",
   "language": "python",
   "name": "python3"
  },
  "language_info": {
   "codemirror_mode": {
    "name": "ipython",
    "version": 3
   },
   "file_extension": ".py",
   "mimetype": "text/x-python",
   "name": "python",
   "nbconvert_exporter": "python",
   "pygments_lexer": "ipython3",
   "version": "3.10.13"
  }
 },
 "nbformat": 4,
 "nbformat_minor": 2
}
