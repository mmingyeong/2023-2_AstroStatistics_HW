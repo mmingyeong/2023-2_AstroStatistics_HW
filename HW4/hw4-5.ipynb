{
 "cells": [
  {
   "cell_type": "code",
   "execution_count": 1,
   "metadata": {},
   "outputs": [],
   "source": [
    "#!/usr/bin/env python\n",
    "# -*- coding: utf-8 -*-\n",
    "#\n",
    "# @Author: Mingyeong Yang (ggong@kasi.re.kr)\n",
    "# @Date: 2023-10-06\n",
    "# @Filename: hw3.ipynb\n",
    "\n",
    "import matplotlib.pyplot as plt\n",
    "import numpy as np\n",
    "import glob\n",
    "import os\n",
    "import sys\n",
    "import math"
   ]
  },
  {
   "cell_type": "code",
   "execution_count": 2,
   "metadata": {},
   "outputs": [],
   "source": [
    "# prob1\n",
    "# Derive the critical chi^2 values for which, \n",
    "# that one can assign 68.3%, 90%, 95%, 95.4%, 99% and 99.73% confidence limits \n",
    "# for degrees of freedom of 1, 2, 3, 4, 5 and 6 of the chi^2 distribution. \n",
    "# Make a table for this."
   ]
  },
  {
   "cell_type": "code",
   "execution_count": 3,
   "metadata": {},
   "outputs": [
    {
     "name": "stdout",
     "output_type": "stream",
     "text": [
      "Degree of Freedom = 1, Confidence Level = 68.30000000000001%: Chi-squared Value = 1.00\n",
      "Degree of Freedom = 1, Confidence Level = 90.0%: Chi-squared Value = 2.71\n",
      "Degree of Freedom = 1, Confidence Level = 95.0%: Chi-squared Value = 3.84\n",
      "Degree of Freedom = 1, Confidence Level = 95.39999999999999%: Chi-squared Value = 3.98\n",
      "Degree of Freedom = 1, Confidence Level = 99.0%: Chi-squared Value = 6.63\n",
      "Degree of Freedom = 1, Confidence Level = 99.72999999999999%: Chi-squared Value = 9.00\n"
     ]
    }
   ],
   "source": [
    "import scipy.stats as stats\n",
    "\n",
    "# Degrees of freedom\n",
    "#df = [1, 2, 3, 4, 5, 6]  # Replace with your desired degrees of freedom\n",
    "df = 1\n",
    "\n",
    "# Confidence levels (in this example, we use a list)\n",
    "confidence_levels = [0.683, 0.90, 0.95, 0.954, 0.99, 0.9973]  # Replace with your desired confidence levels\n",
    "\n",
    "# Calculate and print critical chi-squared values\n",
    "# chi2_value = Sum((random_variables - Mean)^2/Sigma^2) From 1 to k \n",
    "\n",
    "for confidence in confidence_levels:\n",
    "    chi2_value = stats.chi2.ppf(confidence, df)\n",
    "    print(f\"Degree of Freedom = {df}, Confidence Level = {confidence * 100}%: Chi-squared Value = {chi2_value:.2f}\")\n"
   ]
  },
  {
   "cell_type": "code",
   "execution_count": 4,
   "metadata": {},
   "outputs": [],
   "source": [
    "import scipy.special as sp\n",
    "\n",
    "def pdf_chi(k, x):\n",
    "    \n",
    "    if x > 0:\n",
    "        func = (x^((k/2)-1)*math.exp(-x/2))/(2^(k/2)*sp.gamma(k/2))\n",
    "    else:\n",
    "        func = 0\n",
    "\n",
    "    return func"
   ]
  }
 ],
 "metadata": {
  "kernelspec": {
   "display_name": "base",
   "language": "python",
   "name": "python3"
  },
  "language_info": {
   "codemirror_mode": {
    "name": "ipython",
    "version": 3
   },
   "file_extension": ".py",
   "mimetype": "text/x-python",
   "name": "python",
   "nbconvert_exporter": "python",
   "pygments_lexer": "ipython3",
   "version": "3.9.16"
  }
 },
 "nbformat": 4,
 "nbformat_minor": 2
}
