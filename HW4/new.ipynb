{
 "cells": [
  {
   "cell_type": "code",
   "execution_count": 96,
   "metadata": {},
   "outputs": [],
   "source": [
    "import numpy as np\n",
    "import math\n",
    "from matplotlib import rc\n",
    "import matplotlib.pylab as plt\n",
    "import scipy\n",
    "from scipy.optimize import minimize_scalar, minimize,fsolve\n",
    "from scipy.integrate import quad\n",
    "import seaborn as sns\n",
    "import pandas as pd\n",
    "%matplotlib inline\n"
   ]
  },
  {
   "cell_type": "code",
   "execution_count": 97,
   "metadata": {},
   "outputs": [],
   "source": [
    "plt.rcParams.update({'figure.figsize':(12,8), 'figure.dpi':100})"
   ]
  },
  {
   "cell_type": "code",
   "execution_count": 98,
   "metadata": {},
   "outputs": [],
   "source": [
    "import scipy.special as ssp\n",
    "def mean(data):\n",
    "    length = len(data)\n",
    "    suma = sum(data)\n",
    "    return suma/length\n",
    "\n",
    "def variance(data):\n",
    "    length = len(data)\n",
    "    mean_i = mean(data)\n",
    "    var = 0 \n",
    "    for i in range(length):\n",
    "        var = var + (data[i] - mean_i)**2\n",
    "    return var/length\n",
    "\n",
    "def skewness(data):\n",
    "    length = len(data)\n",
    "    mean_i = mean(data)\n",
    "    var = variance(data)\n",
    "    skw = 0 \n",
    "    for i in range(length):\n",
    "        skw = skw + (data[i] - mean_i)**3\n",
    "    return skw/(length*var**3)\n",
    "\n",
    "def correlation_coeff(data_x,data_y):\n",
    "    prod_sum = 1\n",
    "    mean_x = mean(data_x)\n",
    "    mean_y = mean(data_y)\n",
    "    var_x = variance(data_x)\n",
    "    var_y = variance(data_y)\n",
    "    print (\"Mean and Variance\",mean_x,mean_y,var_x,var_y)\n",
    "    for i in range(len(data_x)):\n",
    "        prod_sum = prod_sum*(data_x[i]-mean_x)*(data_y[i] -mean_y)\n",
    "    return prod_sum/(np.sqrt(var_x)*np.sqrt(var_y))\n",
    "\n",
    "def gaussian_dist(x,mu,sig):\n",
    "    fac1 = 1/(np.sqrt(2*np.pi)*sig)\n",
    "    fac2 = np.exp(- (x-mu)**2/(2*sig**2))\n",
    "    return fac1*fac2\n",
    "\n",
    "def chisq_n(chisq, k):\n",
    "    # chi-squared distribution\n",
    "    # chisq: chi-squared value\n",
    "    # k: the degree of freedom\n",
    "    \n",
    "    if chisq> 0:\n",
    "        temp1 = 2**(k/2.0)\n",
    "        temp2 = ssp.gamma(k/2)\n",
    "        temp3 = chisq**(k/2.0-1)\n",
    "        temp4 = np.exp(-0.5*chisq)\n",
    "        return temp3*temp4/(temp1*temp2)\n",
    "    else:\n",
    "        return 0\n",
    "    \n",
    "def chisq_prob(chisq,n):\n",
    "    # probability 계산\n",
    "    # quad: 정적분을 계산한다.\n",
    "    # chisq_n function을 0부터 chisq까지 계산한다. \n",
    "    # 0부터 chisq까지 계산한 값/ 0부터 100까지 정적분한 값\n",
    "    return quad(chisq_n,0.00,chisq,args=(n))[0]/quad(chisq_n,0.00,100,args=(n))[0]\n",
    "\n",
    "def chisq(y_data,y_thr,y_sig):\n",
    "    # chi-sqaured value 계산\n",
    "    chisq = 0\n",
    "    for i in range(len(y_data)):\n",
    "        temp1 = (y_data[i]-y_thr[i])**2\n",
    "        temp2 = y_sig[i]**2\n",
    "        chisq = chisq + temp1/temp2\n",
    "    return chisq\n",
    "\n",
    "def chisqwithprob(chisq,prob,n):\n",
    "    return  chisq_prob(chisq,n) -prob\n",
    "    "
   ]
  },
  {
   "cell_type": "code",
   "execution_count": 99,
   "metadata": {},
   "outputs": [
    {
     "data": {
      "text/plain": [
       "0.6833632306209467"
      ]
     },
     "execution_count": 99,
     "metadata": {},
     "output_type": "execute_result"
    }
   ],
   "source": [
    "chisq_prob(2.30,2)"
   ]
  },
  {
   "cell_type": "code",
   "execution_count": 100,
   "metadata": {},
   "outputs": [
    {
     "name": "stderr",
     "output_type": "stream",
     "text": [
      "C:\\Users\\mming\\AppData\\Local\\Temp\\ipykernel_20532\\966602417.py:5: DeprecationWarning: Conversion of an array with ndim > 0 to a scalar is deprecated, and will error in future. Ensure you extract a single element from your array before performing this operation. (Deprecated NumPy 1.25.)\n",
      "  probchisq[i-1][j] = fsolve(chisqwithprob,0.0001,args=(vals[j],i))\n"
     ]
    }
   ],
   "source": [
    "vals = [0.6827, 0.90, 0.95,0.9545,0.99,0.9973]\n",
    "probchisq = np.zeros((6,6))\n",
    "for i in range(1,7):\n",
    "    for j in range(len(vals)):\n",
    "        probchisq[i-1][j] = fsolve(chisqwithprob,0.0001,args=(vals[j],i))"
   ]
  },
  {
   "cell_type": "code",
   "execution_count": 101,
   "metadata": {},
   "outputs": [
    {
     "name": "stdout",
     "output_type": "stream",
     "text": [
      "           1      2      3      4      5      6\n",
      "0.6827  1.00   2.30   3.53   4.72   5.89   7.04\n",
      "0.9000  2.71   4.61   6.25   7.78   9.24  10.64\n",
      "0.9500  3.84   5.99   7.81   9.49  11.07  12.59\n",
      "0.9545  4.00   6.18   8.02   9.72  11.31  12.85\n",
      "0.9900  6.63   9.21  11.34  13.28  15.09  16.81\n",
      "0.9973  9.00  11.83  14.16  16.25  18.21  20.06\n"
     ]
    }
   ],
   "source": [
    "prob_df = pd.DataFrame(np.round(probchisq.T,2),columns=np.arange(1,7),index=vals)\n",
    "print(prob_df)"
   ]
  },
  {
   "cell_type": "code",
   "execution_count": 102,
   "metadata": {},
   "outputs": [
    {
     "data": {
      "text/html": [
       "<table border=\"1\" class=\"dataframe\">\n",
       "  <thead>\n",
       "    <tr style=\"text-align: right;\">\n",
       "      <th></th>\n",
       "      <th>1</th>\n",
       "      <th>2</th>\n",
       "      <th>3</th>\n",
       "      <th>4</th>\n",
       "      <th>5</th>\n",
       "      <th>6</th>\n",
       "    </tr>\n",
       "  </thead>\n",
       "  <tbody>\n",
       "    <tr>\n",
       "      <th>0.6827</th>\n",
       "      <td>1.00</td>\n",
       "      <td>2.30</td>\n",
       "      <td>3.53</td>\n",
       "      <td>4.72</td>\n",
       "      <td>5.89</td>\n",
       "      <td>7.04</td>\n",
       "    </tr>\n",
       "    <tr>\n",
       "      <th>0.9000</th>\n",
       "      <td>2.71</td>\n",
       "      <td>4.61</td>\n",
       "      <td>6.25</td>\n",
       "      <td>7.78</td>\n",
       "      <td>9.24</td>\n",
       "      <td>10.64</td>\n",
       "    </tr>\n",
       "    <tr>\n",
       "      <th>0.9500</th>\n",
       "      <td>3.84</td>\n",
       "      <td>5.99</td>\n",
       "      <td>7.81</td>\n",
       "      <td>9.49</td>\n",
       "      <td>11.07</td>\n",
       "      <td>12.59</td>\n",
       "    </tr>\n",
       "    <tr>\n",
       "      <th>0.9545</th>\n",
       "      <td>4.00</td>\n",
       "      <td>6.18</td>\n",
       "      <td>8.02</td>\n",
       "      <td>9.72</td>\n",
       "      <td>11.31</td>\n",
       "      <td>12.85</td>\n",
       "    </tr>\n",
       "    <tr>\n",
       "      <th>0.9900</th>\n",
       "      <td>6.63</td>\n",
       "      <td>9.21</td>\n",
       "      <td>11.34</td>\n",
       "      <td>13.28</td>\n",
       "      <td>15.09</td>\n",
       "      <td>16.81</td>\n",
       "    </tr>\n",
       "    <tr>\n",
       "      <th>0.9973</th>\n",
       "      <td>9.00</td>\n",
       "      <td>11.83</td>\n",
       "      <td>14.16</td>\n",
       "      <td>16.25</td>\n",
       "      <td>18.21</td>\n",
       "      <td>20.06</td>\n",
       "    </tr>\n",
       "  </tbody>\n",
       "</table>"
      ],
      "text/plain": [
       "<IPython.core.display.HTML object>"
      ]
     },
     "metadata": {},
     "output_type": "display_data"
    }
   ],
   "source": [
    "from IPython.display import display, HTML\n",
    "display(HTML(prob_df.to_html()))"
   ]
  },
  {
   "cell_type": "code",
   "execution_count": 103,
   "metadata": {},
   "outputs": [],
   "source": [
    "def M1(x,a1,b1):\n",
    "    return (a1*x)+(x**b1)+1\n",
    "def M2(x,a2,b2,c2):\n",
    "    return a2 * np.tanh(x-b2)+ c2       \n",
    "def M3(x,a3,b3):\n",
    "    return a3*x*(np.sin(x)+b3)+1  \n",
    "def M4(x,a4,b4):\n",
    "    return a4 + b4 * (1+x) \n",
    "def M5(x,a5,b5):\n",
    "    return np.where(a5*(1+x)**3+b5 >= 0, np.sqrt(a5*(1+x)**3+b5 ), np.nan) "
   ]
  },
  {
   "cell_type": "code",
   "execution_count": 104,
   "metadata": {},
   "outputs": [],
   "source": [
    "prior = [-10,10]"
   ]
  },
  {
   "cell_type": "code",
   "execution_count": 105,
   "metadata": {},
   "outputs": [],
   "source": [
    "data_1 = np.loadtxt(\"./regression_data_f.txt\")\n",
    "data_2 = np.loadtxt(\"./regression_data_h.txt\")\n",
    "data_3 = np.loadtxt(\"./regression_data_j.txt\")\n",
    "data_4 = np.loadtxt(\"./regression_data_k.txt\")\n",
    "\n",
    "data = [data_1,data_2,data_3,data_4]"
   ]
  },
  {
   "cell_type": "code",
   "execution_count": 106,
   "metadata": {},
   "outputs": [],
   "source": [
    "def gridsampling(data_1,model,n,prior,m):\n",
    "    if m == 2:\n",
    "        chisqval = np.zeros((n,n))\n",
    "        samp = np.linspace(prior[0],prior[1],n)\n",
    "        for i in range(len(samp)):\n",
    "            for j in range(len(samp)):\n",
    "                chisqval[i,j] = chisq(data_1[:,1],model(data_1[:,0],samp[i],samp[j]),data_1[:,2])\n",
    "    elif m ==3:\n",
    "        chisqval = np.zeros((n,n,n))\n",
    "        samp = np.linspace(prior[0],prior[1],n)\n",
    "        for i in range(len(samp)):\n",
    "            for j in range(len(samp)):\n",
    "                for k in range(len(samp)):\n",
    "                    chisqval[i,j,k] = chisq(data_1[:,1],model(data_1[:,0],samp[i],samp[j],samp[k]),data_1[:,2])\n",
    "    else:\n",
    "        print(\"Don't do it!\")\n",
    "        return\n",
    "    return chisqval\n",
    "\n",
    "def gridsamplingforconf(data_1,model,n,bestfit,m,ranges=0.1):\n",
    "    if m == 2:\n",
    "        chisqval = np.zeros((n,n))\n",
    "        lwr = 1-ranges\n",
    "        hwr = 1 + ranges\n",
    "        samp1 = np.linspace(lwr*bestfit[0],hwr*bestfit[0],n)\n",
    "        samp2 = np.linspace(lwr*bestfit[1],hwr*bestfit[1],n)\n",
    "        for i in range(len(samp1)):\n",
    "            for j in range(len(samp2)):\n",
    "                chisqval[i,j] = chisq(data_1[:,1],model(data_1[:,0],samp1[i],samp2[j]),data_1[:,2])\n",
    "    elif m ==3:\n",
    "        chisqval = np.zeros((n,n,n))\n",
    "        lwr = 1-ranges\n",
    "        hwr = 1 + ranges\n",
    "        samp1 = np.linspace(lwr*bestfit[0],hwr*bestfit[0],n)\n",
    "        samp2 = np.linspace(lwr*bestfit[1],hwr*bestfit[1],n)\n",
    "        samp3 = np.linspace(lwr*bestfit[2],hwr*bestfit[2],n)\n",
    "        for i in range(len(samp1)):\n",
    "            for j in range(len(samp2)):\n",
    "                for k in range(len(samp3)):\n",
    "                    chisqval[i,j,k] = chisq(data_1[:,1],model(data_1[:,0],samp1[i],samp2[j],samp3[k]),data_1[:,2])\n",
    "    else:\n",
    "        print(\"Don't do it!\")\n",
    "        return\n",
    "    return chisqval"
   ]
  },
  {
   "cell_type": "code",
   "execution_count": 107,
   "metadata": {},
   "outputs": [],
   "source": [
    "def gridsamplingforsamp(data_1,model,n,prior,m):\n",
    "    if m == 2:\n",
    "        chisqval = np.zeros((n,n))\n",
    "        samp = np.linspace(prior[0],prior[1],n)\n",
    "        for i in range(len(samp)):\n",
    "            for j in range(len(samp)):\n",
    "                chisqval[i,j] = chisq(data_1[:,1],model(data_1[:,0],samp[i],samp[j]),data_1[:,2])\n",
    "    elif m ==3:\n",
    "        chisqval = np.zeros((n,n,n))\n",
    "        samp = np.linspace(prior[0],prior[1],n)\n",
    "        for i in range(len(samp)):\n",
    "            for j in range(len(samp)):\n",
    "                for k in range(len(samp)):\n",
    "                    chisqval[i,j,k] = chisq(data_1[:,1],model(data_1[:,0],samp[i],samp[j],samp[k]),data_1[:,2])\n",
    "    else:\n",
    "        print(\"Don't do it!\")\n",
    "        return\n",
    "    return chisqval"
   ]
  },
  {
   "cell_type": "code",
   "execution_count": 108,
   "metadata": {},
   "outputs": [],
   "source": [
    "def bestmodelfordata(data_1,n,prior):\n",
    "    Models = [M1,M2,M3,M4,M5]\n",
    "    restab = []\n",
    "    for i in range(len(Models)):\n",
    "        if Models[i] == M2:\n",
    "            chisqval = gridsampling(data_1,Models[i],n,prior,3)\n",
    "        else:\n",
    "            chisqval = gridsampling(data_1,Models[i],n,prior,2)\n",
    "        samp = np.linspace(prior[0],prior[1],n)\n",
    "        ind = np.unravel_index(np.nanargmin(chisqval, axis=None,), chisqval.shape)\n",
    "        if Models[i] != M2:\n",
    "            print ('For Model',Models[i].__name__, '\\ta= ',samp[ind[0]],'b =',samp[ind[1]],'Min(chisq) = ',chisqval[ind])\n",
    "            restab.append([Models[i].__name__,samp[ind[0]],samp[ind[1]],np.nan,chisqval[ind]])\n",
    "        else:\n",
    "            print ('For Model',Models[i].__name__, '\\ta= ',samp[ind[0]],'b =',samp[ind[1]],'c = ',samp[ind[2]],'Min(chisq) = ',chisqval[ind])\n",
    "            restab.append([Models[i].__name__,samp[ind[0]],samp[ind[1]],samp[ind[2]],chisqval[ind]])\n",
    "    return pd.DataFrame(restab, columns=['Model','a','b','c','Min(chisq)'])"
   ]
  },
  {
   "cell_type": "code",
   "execution_count": 109,
   "metadata": {},
   "outputs": [
    {
     "name": "stderr",
     "output_type": "stream",
     "text": [
      "C:\\Users\\mming\\AppData\\Local\\Temp\\ipykernel_20532\\4034625315.py:2: RuntimeWarning: divide by zero encountered in power\n",
      "  return (a1*x)+(x**b1)+1\n"
     ]
    },
    {
     "name": "stdout",
     "output_type": "stream",
     "text": [
      "For Model M1 \ta=  -0.10101010101010033 b = 1.3131313131313131 Min(chisq) =  841.7063331498521\n",
      "For Model M2 \ta=  2.929292929292929 b = 2.929292929292929 c =  4.545454545454545 Min(chisq) =  2430.0870039674373\n",
      "For Model M3 \ta=  -0.30303030303030276 b = -3.9393939393939394 Min(chisq) =  610.4223324840107\n",
      "For Model M4 \ta=  -1.1111111111111107 b = 1.5151515151515156 Min(chisq) =  832.1854736186701\n"
     ]
    },
    {
     "name": "stderr",
     "output_type": "stream",
     "text": [
      "C:\\Users\\mming\\AppData\\Local\\Temp\\ipykernel_20532\\4034625315.py:10: RuntimeWarning: invalid value encountered in sqrt\n",
      "  return np.where(a5*(1+x)**3+b5 >= 0, np.sqrt(a5*(1+x)**3+b5 ), np.nan)\n"
     ]
    },
    {
     "name": "stdout",
     "output_type": "stream",
     "text": [
      "For Model M5 \ta=  0.30303030303030276 b = 0.9090909090909083 Min(chisq) =  269.24224697214424\n",
      "For Model M1 \ta=  0.7070707070707076 b = 0.10101010101010033 Min(chisq) =  1328.0118730162421\n",
      "For Model M2 \ta=  2.525252525252524 b = 0.7070707070707076 c =  2.3232323232323235 Min(chisq) =  359.89972704951055\n",
      "For Model M3 \ta=  0.7070707070707076 b = 1.9191919191919187 Min(chisq) =  106.54081825730428\n",
      "For Model M4 \ta=  2.3232323232323235 b = 0.5050505050505052 Min(chisq) =  1244.7190502883948\n",
      "For Model M5 \ta=  0.10101010101010033 b = 10.0 Min(chisq) =  1707.759885800275\n",
      "[  Model         a         b         c   Min(chisq)\n",
      "0    M1 -0.101010  1.313131       NaN   841.706333\n",
      "1    M2  2.929293  2.929293  4.545455  2430.087004\n",
      "2    M3 -0.303030 -3.939394       NaN   610.422332\n",
      "3    M4 -1.111111  1.515152       NaN   832.185474\n",
      "4    M5  0.303030  0.909091       NaN   269.242247,   Model         a          b         c   Min(chisq)\n",
      "0    M1  0.707071   0.101010       NaN  1328.011873\n",
      "1    M2  2.525253   0.707071  2.323232   359.899727\n",
      "2    M3  0.707071   1.919192       NaN   106.540818\n",
      "3    M4  2.323232   0.505051       NaN  1244.719050\n",
      "4    M5  0.101010  10.000000       NaN  1707.759886]\n"
     ]
    }
   ],
   "source": [
    "sampnum = 100\n",
    "\n",
    "\n",
    "data_results = []\n",
    "data_results.append(bestmodelfordata(data_2,sampnum,prior))\n",
    "data_results.append(bestmodelfordata(data_4,sampnum,prior))\n",
    "print(data_results)"
   ]
  },
  {
   "cell_type": "code",
   "execution_count": 110,
   "metadata": {},
   "outputs": [
    {
     "name": "stdout",
     "output_type": "stream",
     "text": [
      "[  Model         a         b         c   Min(chisq)\n",
      "0    M1 -0.101010  1.313131       NaN   841.706333\n",
      "1    M2  2.929293  2.929293  4.545455  2430.087004\n",
      "2    M3 -0.303030 -3.939394       NaN   610.422332\n",
      "3    M4 -1.111111  1.515152       NaN   832.185474\n",
      "4    M5  0.303030  0.909091       NaN   269.242247,   Model         a          b         c   Min(chisq)\n",
      "0    M1  0.707071   0.101010       NaN  1328.011873\n",
      "1    M2  2.525253   0.707071  2.323232   359.899727\n",
      "2    M3  0.707071   1.919192       NaN   106.540818\n",
      "3    M4  2.323232   0.505051       NaN  1244.719050\n",
      "4    M5  0.101010  10.000000       NaN  1707.759886]\n"
     ]
    }
   ],
   "source": [
    "print(data_results)"
   ]
  },
  {
   "cell_type": "code",
   "execution_count": 111,
   "metadata": {},
   "outputs": [],
   "source": [
    "chisqdata =[]\n",
    "Models= [M1,M2,M3,M4,M5]\n",
    "ms = [2,3,2,2,2]\n",
    "M1_bestfit = [1, 0, None]\n",
    "temp = gridsamplingforconf(data_2,Models[0],100,M1_bestfit,ms[0],ranges=1)\n",
    "chisqdata.append(temp - temp.min())"
   ]
  },
  {
   "cell_type": "code",
   "execution_count": 112,
   "metadata": {},
   "outputs": [
    {
     "name": "stdout",
     "output_type": "stream",
     "text": [
      "[1, 0, None]\n",
      "[[85218.46080615 85218.46080615 85218.46080615 ... 85218.46080615\n",
      "  85218.46080615 85218.46080615]\n",
      " [81839.17832446 81839.17832446 81839.17832446 ... 81839.17832446\n",
      "  81839.17832446 81839.17832446]\n",
      " [78528.25964953 78528.25964953 78528.25964953 ... 78528.25964953\n",
      "  78528.25964953 78528.25964953]\n",
      " ...\n",
      " [75729.94434673 75729.94434673 75729.94434673 ... 75729.94434673\n",
      "  75729.94434673 75729.94434673]\n",
      " [78981.95112055 78981.95112055 78981.95112055 ... 78981.95112055\n",
      "  78981.95112055 78981.95112055]\n",
      " [82302.32170113 82302.32170113 82302.32170113 ... 82302.32170113\n",
      "  82302.32170113 82302.32170113]]\n",
      "[2.3, 4.61, 5.99, 6.18, 9.21, 11.83]\n"
     ]
    },
    {
     "name": "stderr",
     "output_type": "stream",
     "text": [
      "C:\\Users\\mming\\AppData\\Local\\Temp\\ipykernel_20532\\3960238403.py:20: MatplotlibDeprecationWarning: The collections attribute was deprecated in Matplotlib 3.8 and will be removed two minor releases later.\n",
      "  CS.collections[i].set_label(str(np.round(vals[i]*100,2)) + '%')\n"
     ]
    },
    {
     "data": {
      "text/plain": [
       "<matplotlib.legend.Legend at 0x20ffc9120e0>"
      ]
     },
     "execution_count": 112,
     "metadata": {},
     "output_type": "execute_result"
    },
    {
     "data": {
      "image/png": "[encoded data removed]",
      "text/plain": [
       "<Figure size 1200x800 with 1 Axes>"
      ]
     },
     "metadata": {},
     "output_type": "display_data"
    }
   ],
   "source": [
    "rng = 1\n",
    "bestft = M1_bestfit\n",
    "print(bestft)\n",
    "lwr = 1- rng\n",
    "hwr = 1 + rng\n",
    "n = 100\n",
    "samp1 = np.linspace(lwr*bestft[0],hwr*bestft[0],n)\n",
    "samp2 = np.linspace(lwr*bestft[1],hwr*bestft[1],n)\n",
    "#samp3 = np.linspace(lwr*bestft[2],hwr*bestft[2],n)\n",
    "X, Y = np.meshgrid(samp1, samp2)\n",
    "fig, ax = plt.subplots()\n",
    "CS =  ax.contour(X,Y,chisqdata[0],levels=prob_df[2].to_list())\n",
    "#print(chisqdata[0])\n",
    "#print(prob_df[2].to_list())\n",
    "# ax.clabel(CS,inline=True)\n",
    "#ax.set_xlim([-0.1002,-0.0998])\n",
    "#ax.set_ylim([1.85,2.5])\n",
    "ax.set_title('Model M1 with Data H')\n",
    "for i in range(len(vals)):\n",
    "    CS.collections[i].set_label(str(np.round(vals[i]*100,2)) + '%')\n",
    "plt.legend()"
   ]
  }
 ],
 "metadata": {
  "kernelspec": {
   "display_name": "Python 3",
   "language": "python",
   "name": "python3"
  },
  "language_info": {
   "codemirror_mode": {
    "name": "ipython",
    "version": 3
   },
   "file_extension": ".py",
   "mimetype": "text/x-python",
   "name": "python",
   "nbconvert_exporter": "python",
   "pygments_lexer": "ipython3",
   "version": "3.10.13"
  }
 },
 "nbformat": 4,
 "nbformat_minor": 2
}
